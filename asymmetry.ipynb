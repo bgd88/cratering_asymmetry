{
 "metadata": {
  "name": ""
 },
 "nbformat": 3,
 "nbformat_minor": 0,
 "worksheets": [
  {
   "cells": [
    {
     "cell_type": "code",
     "collapsed": false,
     "input": [
      "%matplotlib inline\n",
      "import numpy as np\n",
      "import pymc\n",
      "import matplotlib.pyplot as plt"
     ],
     "language": "python",
     "metadata": {
      "slideshow": {
       "slide_type": "slide"
      }
     },
     "outputs": []
    },
    {
     "cell_type": "code",
     "collapsed": false,
     "input": [
      "# Define key parameters\n",
      "\n",
      "Vp = 13070 # Orbital velocity of Jupiter"
     ],
     "language": "python",
     "metadata": {},
     "outputs": []
    },
    {
     "cell_type": "code",
     "collapsed": false,
     "input": [
      "# Calculate distribution of encounter velocities\n",
      "\n",
      "x1 = pymc.Uniform('x1', lower=0.0, upper=1.0) # Uniform random number\n",
      "V_inf = 0.3*Vp*(1-0.45*ln(1/(x1+0.2)-0.832))"
     ],
     "language": "python",
     "metadata": {},
     "outputs": []
    }
   ],
   "metadata": {}
  }
 ]
}