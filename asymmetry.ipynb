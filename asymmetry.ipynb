{
 "metadata": {
  "name": "",
  "signature": "sha256:f494507c65bd9c5e69ac6b1b325c2d8cc6230520f568c674c0702f74b162bb96"
 },
 "nbformat": 3,
 "nbformat_minor": 0,
 "worksheets": [
  {
   "cells": [
    {
     "cell_type": "heading",
     "level": 2,
     "metadata": {},
     "source": [
      "Cratering asymmetries and the orbital histories of outer solar system satellites"
     ]
    },
    {
     "cell_type": "heading",
     "level": 4,
     "metadata": {},
     "source": [
      "Abstract"
     ]
    },
    {
     "cell_type": "markdown",
     "metadata": {},
     "source": [
      "On a tidally locked satellite, the leading hemisphere should display higher impact crater densities than the trailing hemisphere. Ganymede displays a weaker-than-expected cratering asymmetry, whereas Triton displays a stronger-than-expected cratering asymmetry. These deviations from the theoretically predicted cratering asymmetry have been attributed to true polar wander, recent nonsynchronous rotation, or crater saturation. Here we use new observations of impact crater distributions on icy satellites in conjunction with a Bayesian statistical model to infer the orbital properties of impactor populations and to test the plausibility of true polar wander and geologically recent nonsynchronous rotation."
     ]
    },
    {
     "cell_type": "heading",
     "level": 4,
     "metadata": {},
     "source": [
      "1. Introduction"
     ]
    },
    {
     "cell_type": "markdown",
     "metadata": {},
     "source": [
      "Impact crater populations provide a record of the past rotation, geologic history, and surface evolution of icy satellites. Shoemaker and Wolfe <strong data-cite=\"shoemakerwolfe1982\">(1982)</strong>  and Horedt and Neukum <strong data-cite=\"horedtneukum1984\">(1984)</strong> first noted that a \"windshield effect\" should cause an apex-antapex cratering asymmetry on synchronously locked satellites.  "
     ]
    },
    {
     "cell_type": "markdown",
     "metadata": {},
     "source": [
      "Zahnle et al. (1998, 2001)"
     ]
    },
    {
     "cell_type": "code",
     "collapsed": false,
     "input": [
      "import pymc\n",
      "import matplotlib.pyplot as plt\n",
      "import numpy as np\n",
      "%matplotlib inline\n"
     ],
     "language": "python",
     "metadata": {
      "slideshow": {
       "slide_type": "slide"
      }
     },
     "outputs": [],
     "prompt_number": 1
    },
    {
     "cell_type": "code",
     "collapsed": false,
     "input": [
      "# Define key parameters\n",
      "\n",
      "Vp = 13070 # Orbital velocity of Jupiter, m/s"
     ],
     "language": "python",
     "metadata": {},
     "outputs": [],
     "prompt_number": 2
    },
    {
     "cell_type": "code",
     "collapsed": false,
     "input": [
      "# Calculate distribution of encounter velocities\n",
      "\n",
      "x1 = pymc.Uniform('x1', lower=0.0, upper=1.0) # Uniformly distributed random number\n",
      "num_obs = 1000\n",
      "v_inf = np.empty(num_obs)\n",
      "for obs in np.arange(num_obs):\n",
      "    v_inf[obs] = Vp*(1-0.45* np.log10(1/(x1.random()+0.2)-0.832))"
     ],
     "language": "python",
     "metadata": {},
     "outputs": [],
     "prompt_number": 3
    },
    {
     "cell_type": "code",
     "collapsed": false,
     "input": [
      "# Plot distribution of encounter velocities\n",
      "\n",
      "plt.hist(v_inf)\n",
      "#plt.show()"
     ],
     "language": "python",
     "metadata": {},
     "outputs": [
      {
       "metadata": {},
       "output_type": "pyout",
       "prompt_number": 4,
       "text": [
        "(array([ 183.,  243.,  210.,  152.,  113.,   56.,   19.,   14.,    6.,    4.]),\n",
        " array([  9427.19250892,  11422.18930121,  13417.18609351,  15412.1828858 ,\n",
        "         17407.1796781 ,  19402.17647039,  21397.17326269,  23392.17005499,\n",
        "         25387.16684728,  27382.16363958,  29377.16043187]),\n",
        " <a list of 10 Patch objects>)"
       ]
      },
      {
       "metadata": {},
       "output_type": "display_data",
       "png": "[encoded data removed]",
       "text": [
        "<matplotlib.figure.Figure at 0x10677f5d0>"
       ]
      }
     ],
     "prompt_number": 4
    },
    {
     "cell_type": "code",
     "collapsed": false,
     "input": [
      "np.log10(100)"
     ],
     "language": "python",
     "metadata": {},
     "outputs": [
      {
       "metadata": {},
       "output_type": "pyout",
       "prompt_number": 5,
       "text": [
        "2.0"
       ]
      }
     ],
     "prompt_number": 5
    },
    {
     "cell_type": "code",
     "collapsed": false,
     "input": [],
     "language": "python",
     "metadata": {},
     "outputs": [],
     "prompt_number": 5
    },
    {
     "cell_type": "code",
     "collapsed": false,
     "input": [],
     "language": "python",
     "metadata": {},
     "outputs": [],
     "prompt_number": 7
    },
    {
     "cell_type": "markdown",
     "metadata": {},
     "source": [
      "((* block bibliography *))\n",
      "\\bibliographystyle{unsrt}\n",
      "\\bibliography{ipython}\n",
      "((* endblock bibliography *))"
     ]
    },
    {
     "cell_type": "code",
     "collapsed": false,
     "input": [],
     "language": "python",
     "metadata": {},
     "outputs": []
    }
   ],
   "metadata": {}
  }
 ]
}