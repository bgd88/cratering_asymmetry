{
 "metadata": {
  "name": ""
 },
 "nbformat": 3,
 "nbformat_minor": 0,
 "worksheets": [
  {
   "cells": [
    {
     "cell_type": "heading",
     "level": 2,
     "metadata": {},
     "source": [
      "Cratering asymmetries and the orbital histories of outer solar system satellites"
     ]
    },
    {
     "cell_type": "heading",
     "level": 4,
     "metadata": {},
     "source": [
      "Abstract"
     ]
    },
    {
     "cell_type": "markdown",
     "metadata": {},
     "source": [
      "On a tidally locked satellite, the leading hemisphere should display higher impact crater densities than the trailing hemisphere. Ganymede displays a weaker-than-expected cratering asymmetry, whereas Triton displays a stronger-than-expected cratering asymmetry. These deviations from the theoretically predicted cratering asymmetry have been attributed to true polar wander, recent nonsynchronous rotation, or crater saturation. Here we use new observations of impact crater distributions on icy satellites in conjunction with a Bayesian statistical model to infer the orbital properties of impactor populations and to test the plausibility of true polar wander and geologically recent nonsynchronous rotation."
     ]
    },
    {
     "cell_type": "heading",
     "level": 4,
     "metadata": {},
     "source": [
      "1. Introduction"
     ]
    },
    {
     "cell_type": "markdown",
     "metadata": {},
     "source": [
      "Impact crater populations provide a record of the past rotation, geologic history, and surface evolution of icy satellites. Shoemaker and Wolfe <strong data-cite=\"shoemakerwolfe1982\">(1982)</strong>  and Horedt and Neukum <strong data-cite=\"horedtneukum1984\">(1984)</strong> first noted that a \"windshield effect\" should cause an apex-antapex cratering asymmetry on synchronously locked satellites.  "
     ]
    },
    {
     "cell_type": "markdown",
     "metadata": {},
     "source": [
      "Zahnle et al. (1998, 2001)"
     ]
    },
    {
     "cell_type": "code",
     "collapsed": false,
     "input": [
      "import pymc\n",
      "import matplotlib.pyplot as plt\n",
      "import numpy as np\n",
      "%matplotlib inline\n"
     ],
     "language": "python",
     "metadata": {
      "slideshow": {
       "slide_type": "slide"
      }
     },
     "outputs": [],
     "prompt_number": 1
    },
    {
     "cell_type": "code",
     "collapsed": false,
     "input": [
      "# Define key parameters\n",
      "\n",
      "Vp = 13070 # Orbital velocity of Jupiter, m/s"
     ],
     "language": "python",
     "metadata": {},
     "outputs": [],
     "prompt_number": 2
    },
    {
     "cell_type": "code",
     "collapsed": false,
     "input": [
      "# Calculate distribution of encounter velocities\n",
      "\n",
      "x1 = pymc.Uniform('x1', lower=0.0, upper=1.0) # Uniformly distributed random number\n",
      "num_obs = 1000\n",
      "v_inf = np.empty(num_obs)\n",
      "for obs in np.arange(num_obs):\n",
      "    v_inf[obs] = Vp*(1-0.45* np.log10(1/(x1.random()+0.2)-0.832))"
     ],
     "language": "python",
     "metadata": {},
     "outputs": [],
     "prompt_number": 3
    },
    {
     "cell_type": "code",
     "collapsed": false,
     "input": [
      "# Plot distribution of encounter velocities\n",
      "\n",
      "plt.hist(v_inf)\n",
      "#plt.show()"
     ],
     "language": "python",
     "metadata": {},
     "outputs": [
      {
       "metadata": {},
       "output_type": "pyout",
       "prompt_number": 4,
       "text": [
        "(array([ 168.,  213.,  231.,  158.,  120.,   57.,   23.,   18.,    8.,    4.]),\n",
        " array([  9444.86764491,  11395.11362153,  13345.35959814,  15295.60557476,\n",
        "        17245.85155138,  19196.09752799,  21146.34350461,  23096.58948122,\n",
        "        25046.83545784,  26997.08143445,  28947.32741107]),\n",
        " <a list of 10 Patch objects>)"
       ]
      },
      {
       "metadata": {},
       "output_type": "display_data",
       "png": "[encoded data removed]",
       "text": [
        "<matplotlib.figure.Figure at 0x10bd327d0>"
       ]
      }
     ],
     "prompt_number": 4
    },
    {
     "cell_type": "code",
     "collapsed": false,
     "input": [
      "np.log10(100)"
     ],
     "language": "python",
     "metadata": {},
     "outputs": [
      {
       "metadata": {},
       "output_type": "pyout",
       "prompt_number": 5,
       "text": [
        "2.0"
       ]
      }
     ],
     "prompt_number": 5
    },
    {
     "cell_type": "code",
     "collapsed": false,
     "input": [],
     "language": "python",
     "metadata": {},
     "outputs": [],
     "prompt_number": 7
    },
    {
     "cell_type": "code",
     "collapsed": false,
     "input": [],
     "language": "python",
     "metadata": {},
     "outputs": [],
     "prompt_number": 7
    },
    {
     "cell_type": "markdown",
     "metadata": {},
     "source": [
      "((* block bibliography *))\n",
      "\\bibliographystyle{unsrt}\n",
      "\\bibliography{ipython}\n",
      "((* endblock bibliography *))"
     ]
    },
    {
     "cell_type": "code",
     "collapsed": false,
     "input": [],
     "language": "python",
     "metadata": {},
     "outputs": []
    }
   ],
   "metadata": {}
  }
 ]
}