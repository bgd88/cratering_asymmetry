{
 "metadata": {
  "name": ""
 },
 "nbformat": 3,
 "nbformat_minor": 0,
 "worksheets": [
  {
   "cells": [
    {
     "cell_type": "code",
     "collapsed": false,
     "input": [
      "%matplotlib inline\n",
      "import pymc as pm\n",
      "import matplotlib.pyplot as plt\n",
      "import numpy as np\n"
     ],
     "language": "python",
     "metadata": {
      "slideshow": {
       "slide_type": "slide"
      }
     },
     "outputs": [],
     "prompt_number": 1
    },
    {
     "cell_type": "code",
     "collapsed": false,
     "input": [
      "# Define key parameters\n",
      "vp = 13.070  # Orbital velocity of Jupiter, [km/s]\n",
      "v_orb = {'Io' : 17.3, \n",
      "         'Europa' : 13.7,\n",
      "         'Ganymede' : 10.9,\n",
      "         'Callisto' : 8.2}  # Orbital velocity of Jupiter's Moons, [km/s]"
     ],
     "language": "python",
     "metadata": {},
     "outputs": [],
     "prompt_number": 2
    },
    {
     "cell_type": "heading",
     "level": 1,
     "metadata": {},
     "source": [
      "#1: Encounter Velocities with the Planet"
     ]
    },
    {
     "cell_type": "code",
     "collapsed": false,
     "input": [
      "# Calculate distribution of encounter velocities\n",
      "x1 = pm.Uniform('x1', lower=0.0, upper=1.0) # Uniformly distributed random number\n",
      "\n",
      "def Vinf_eval(vp=vp,x1=x1): \n",
      "    return 0.3*vp*(1-0.45* np.log(1/(x1+0.2)-0.832))\n",
      "\n",
      "def Unif_eval(x1=x1):\n",
      "    return 0.3*(1-0.45* np.log(1/(x1+0.2)-0.832))\n",
      "\n",
      "Vinf = pm.Deterministic(eval = Vinf_eval,\n",
      "                  name = 'Vinf',\n",
      "                  parents = {'vp': vp,\n",
      "                             'x1': x1},\n",
      "                  doc = ' An empirical fit to the integral of a Maxwellian velocity distribution.',\n",
      "                  trace = True,\n",
      "                  verbose = 0,\n",
      "                  dtype=float,\n",
      "                  plot=False,\n",
      "                  cache_depth = 2)\n"
     ],
     "language": "python",
     "metadata": {},
     "outputs": [],
     "prompt_number": 3
    },
    {
     "cell_type": "code",
     "collapsed": false,
     "input": [
      "#Create Model and \n",
      "M = pm.Model([x1, Vinf])\n",
      "mcmc = pm.MCMC(M)"
     ],
     "language": "python",
     "metadata": {},
     "outputs": [],
     "prompt_number": 4
    },
    {
     "cell_type": "code",
     "collapsed": false,
     "input": [
      "#Generate Distribution\n",
      "mcmc.sample(40000, 10000, 1)\n",
      "Vinf_samples = mcmc.trace('Vinf')[:]\n",
      "\n",
      "# Plot distribution of encounter velocities\n",
      "nbins = 50\n",
      "plt.figure(figsize=(12,6))\n",
      "ax1 = plt.subplot(121)\n",
      "ax1.hist(Vinf_samples,bins=nbins,normed=True)\n",
      "\n",
      "# Plot culmulative distribution of encounter velocities\n",
      "ax2 = plt.subplot(122)\n",
      "ax2.hist(Vinf_samples,bins=nbins,cumulative=True,normed=True)\n",
      "plt.show()\n",
      "\n",
      "print \"Min V_inf : %f\"    %  Vinf_samples.min()\n",
      "print \"Max V_inf : %f\"    %  Vinf_samples.max()\n",
      "print \"Median V_inf : %f\" %  np.median(Vinf_samples)"
     ],
     "language": "python",
     "metadata": {},
     "outputs": [
      {
       "output_type": "stream",
       "stream": "stdout",
       "text": [
        "\r",
        " [-----------------45%                  ] 18157 of 40000 complete in 0.5 sec"
       ]
      },
      {
       "output_type": "stream",
       "stream": "stdout",
       "text": [
        "\r",
        " [-----------------76%---------         ] 30620 of 40000 complete in 1.0 sec"
       ]
      },
      {
       "output_type": "stream",
       "stream": "stdout",
       "text": [
        "\r",
        " [-----------------100%-----------------] 40000 of 40000 complete in 1.4 sec"
       ]
      },
      {
       "metadata": {},
       "output_type": "display_data",
       "png": "[encoded data removed]",
       "text": [
        "<matplotlib.figure.Figure at 0x113e00e50>"
       ]
      },
      {
       "output_type": "stream",
       "stream": "stdout",
       "text": [
        "Min V_inf : 1.402558\n",
        "Max V_inf : 15.597841\n",
        "Median V_inf : 4.780725\n"
       ]
      }
     ],
     "prompt_number": 5
    },
    {
     "cell_type": "heading",
     "level": 1,
     "metadata": {},
     "source": [
      "#2: Inclination"
     ]
    },
    {
     "cell_type": "code",
     "collapsed": false,
     "input": [
      "#Calculate Distribution of Inclinations\n",
      "x2 = pm.Uniform('x2', lower=0.0, upper=1.0) # Uniformly distributed random number\n",
      "\n",
      "def inclination_eval(x2=x2):\n",
      "    return np.arccos(1-2*x2)\n",
      "    \n",
      "inc = pm.Deterministic(eval = inclination_eval,\n",
      "                  name = 'inclination',\n",
      "                  parents = {'x2': x2},\n",
      "                  doc = 'Isotropic inclinations with respect to the orbital plane of the satellite',\n",
      "                  trace = True,\n",
      "                  verbose = 0,\n",
      "                  dtype=float,\n",
      "                  plot=False,\n",
      "                  cache_depth = 2)\n"
     ],
     "language": "python",
     "metadata": {},
     "outputs": [],
     "prompt_number": 6
    },
    {
     "cell_type": "code",
     "collapsed": false,
     "input": [
      "# Plot culmulative distribution of inclinations\n",
      "# Kluge Fix to Populate a list for now so we can check as we go\n",
      "inclination_samples = [inclination_eval(x2.random()) for i in range(10000)]\n",
      "values, base = np.histogram(inclination_samples,bins=50)\n",
      "cumulative = np.cumsum(values)\n",
      "plt.figure(figsize=(6,6))\n",
      "ax1 = plt.subplot(111)\n",
      "plt.plot(base[:-1]*180/np.pi, cumulative, 'bo')\n",
      "plt.show()"
     ],
     "language": "python",
     "metadata": {},
     "outputs": [
      {
       "metadata": {},
       "output_type": "display_data",
       "png": "[encoded data removed]",
       "text": [
        "<matplotlib.figure.Figure at 0x108a324d0>"
       ]
      }
     ],
     "prompt_number": 22
    },
    {
     "cell_type": "heading",
     "level": 1,
     "metadata": {},
     "source": [
      "#3: Eccentricity"
     ]
    },
    {
     "cell_type": "code",
     "collapsed": false,
     "input": [
      "x3 = pm.Uniform('x3', lower=0.0, upper=1.0) # Uniformly distributed random number\n",
      "\n",
      "#WARNING, THERE IS AN ERROR IN ZAHNLE 2001\n",
      "def eccentricity_eval(Uinf,x3):\n",
      "    UU = Uinf**2\n",
      "    return np.sqrt(1+x3*UU*(UU+2)) "
     ],
     "language": "python",
     "metadata": {},
     "outputs": [],
     "prompt_number": 23
    },
    {
     "cell_type": "code",
     "collapsed": false,
     "input": [
      "ecc_samples = [eccentricity_eval(Unif_eval(x1.random()),x3.random()) for i in range(10000)]"
     ],
     "language": "python",
     "metadata": {},
     "outputs": [],
     "prompt_number": 43
    },
    {
     "cell_type": "code",
     "collapsed": false,
     "input": [
      "plt.figure(figsize=(6,6))\n",
      "ax1 = plt.subplot(111)\n",
      "ax1 = plt.hist(ecc_samples,nbins)"
     ],
     "language": "python",
     "metadata": {},
     "outputs": [
      {
       "metadata": {},
       "output_type": "display_data",
       "png": "[encoded data removed]",
       "text": [
        "<matplotlib.figure.Figure at 0x1020f5e90>"
       ]
      }
     ],
     "prompt_number": 44
    },
    {
     "cell_type": "heading",
     "level": 1,
     "metadata": {},
     "source": [
      "#4: Periapse"
     ]
    },
    {
     "cell_type": "code",
     "collapsed": false,
     "input": [
      "\"The periapse of a random hyperbolic orbit\""
     ],
     "language": "python",
     "metadata": {},
     "outputs": [
      {
       "metadata": {},
       "output_type": "pyout",
       "prompt_number": 34,
       "text": [
        "'The periapse of a random hyperbolic orbit'"
       ]
      }
     ],
     "prompt_number": 34
    },
    {
     "cell_type": "code",
     "collapsed": false,
     "input": [
      "def periapse_eval(Uinf,eccen):\n",
      "    UU = Uinf**2\n",
      "    return (eccen-1)/UU"
     ],
     "language": "python",
     "metadata": {},
     "outputs": [],
     "prompt_number": 35
    },
    {
     "cell_type": "code",
     "collapsed": false,
     "input": [
      "periapse_samples = [periapse_eval(Unif_eval(x1.random()),x3.random()) for i in range(10000)]"
     ],
     "language": "python",
     "metadata": {},
     "outputs": [],
     "prompt_number": 45
    },
    {
     "cell_type": "code",
     "collapsed": false,
     "input": [
      "plt.figure(figsize=(6,6))\n",
      "ax1 = plt.subplot(111)\n",
      "ax1 = plt.hist(periapse_samples,nbins)"
     ],
     "language": "python",
     "metadata": {},
     "outputs": [
      {
       "metadata": {},
       "output_type": "display_data",
       "png": "[encoded data removed]",
       "text": [
        "<matplotlib.figure.Figure at 0x1020e3a50>"
       ]
      }
     ],
     "prompt_number": 46
    },
    {
     "cell_type": "heading",
     "level": 1,
     "metadata": {},
     "source": [
      "#5: Impact Velocities"
     ]
    },
    {
     "cell_type": "markdown",
     "metadata": {},
     "source": [
      "Impact probabilities and impact velocities are estimated using Opik\u2019s formul as written for hyperbolic orbits.\n",
      "\n",
      "We assume that the satellite\u2019s orbit is circular. The normalized encounter velocity U \u2261 venc/vorb is given as:"
     ]
    },
    {
     "cell_type": "code",
     "collapsed": false,
     "input": [
      "def Venc("
     ],
     "language": "python",
     "metadata": {},
     "outputs": []
    }
   ],
   "metadata": {}
  }
 ]
}